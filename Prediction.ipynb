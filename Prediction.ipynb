{
 "cells": [
  {
   "cell_type": "code",
   "execution_count": 5,
   "id": "f2a530d8",
   "metadata": {},
   "outputs": [],
   "source": [
    "import numpy as np\n",
    "import tensorflow as tf\n",
    "from tensorflow.keras.datasets import imdb\n",
    "from tensorflow.keras.preprocessing import sequence\n",
    "from tensorflow.keras.models import Sequential\n",
    "from tensorflow.keras.layers import Embedding,SimpleRNN, Dense\n",
    "from tensorflow.keras.models import load_model"
   ]
  },
  {
   "cell_type": "code",
   "execution_count": 2,
   "id": "dc110f92",
   "metadata": {},
   "outputs": [
    {
     "name": "stdout",
     "output_type": "stream",
     "text": [
      "Downloading data from https://storage.googleapis.com/tensorflow/tf-keras-datasets/imdb_word_index.json\n",
      "1641221/1641221 [==============================] - 0s 0us/step\n"
     ]
    }
   ],
   "source": [
    "#Load The IMDB dataset word index\n",
    "word_index = imdb.get_word_index()\n",
    "reverse_word_index = {value: key for key, value in word_index.items()}"
   ]
  },
  {
   "cell_type": "code",
   "execution_count": 6,
   "id": "7843a5e4",
   "metadata": {},
   "outputs": [
    {
     "name": "stdout",
     "output_type": "stream",
     "text": [
      "WARNING:tensorflow:From c:\\Users\\Harshit.mishra\\Downloads\\Churn Project\\venv\\Lib\\site-packages\\keras\\src\\backend.py:1398: The name tf.executing_eagerly_outside_functions is deprecated. Please use tf.compat.v1.executing_eagerly_outside_functions instead.\n",
      "\n",
      "Model: \"sequential_1\"\n",
      "_________________________________________________________________\n",
      " Layer (type)                Output Shape              Param #   \n",
      "=================================================================\n",
      " embedding (Embedding)       (None, 500, 128)          1280000   \n",
      "                                                                 \n",
      " simple_rnn (SimpleRNN)      (None, 128)               32896     \n",
      "                                                                 \n",
      " dense (Dense)               (None, 1)                 129       \n",
      "                                                                 \n",
      "=================================================================\n",
      "Total params: 1313025 (5.01 MB)\n",
      "Trainable params: 1313025 (5.01 MB)\n",
      "Non-trainable params: 0 (0.00 Byte)\n",
      "_________________________________________________________________\n"
     ]
    }
   ],
   "source": [
    "#Load the pre trained model with relu activation func\n",
    "model = load_model('simple_rnn_imdb.h5')\n",
    "model.summary()"
   ]
  },
  {
   "cell_type": "code",
   "execution_count": 7,
   "id": "d0d3face",
   "metadata": {},
   "outputs": [
    {
     "data": {
      "text/plain": [
       "[array([[ 0.00047605,  0.03751775,  0.00677614, ..., -0.04928493,\n",
       "         -0.00895713, -0.00489653],\n",
       "        [ 0.02546135, -0.04391603,  0.01938844, ..., -0.03817051,\n",
       "         -0.03032283, -0.0249947 ],\n",
       "        [ 0.02813122, -0.0033444 , -0.03400354, ..., -0.0660091 ,\n",
       "         -0.0260715 ,  0.04029561],\n",
       "        ...,\n",
       "        [-0.07151177,  0.04035072, -0.04706205, ...,  0.04305813,\n",
       "          0.0494731 , -0.04093095],\n",
       "        [ 0.06178662, -0.04028791,  0.03387595, ...,  0.0038585 ,\n",
       "         -0.04821749,  0.0062997 ],\n",
       "        [-0.02281683, -0.06431151,  0.05102302, ...,  0.07877508,\n",
       "          0.05355093, -0.09926384]], dtype=float32),\n",
       " array([[ 0.1551929 , -0.0849912 , -0.08508036, ..., -0.12381069,\n",
       "         -0.01922175,  0.05041742],\n",
       "        [ 0.01912014,  0.10183919, -0.12791897, ...,  0.14146039,\n",
       "          0.10013945, -0.11459745],\n",
       "        [-0.12488753, -0.01221817,  0.02326898, ...,  0.10237837,\n",
       "         -0.06290282,  0.03628509],\n",
       "        ...,\n",
       "        [ 0.1111104 ,  0.01489129,  0.09660579, ...,  0.14196046,\n",
       "          0.02427714, -0.17694889],\n",
       "        [ 0.14926279, -0.09414984, -0.1855853 , ..., -0.13576822,\n",
       "          0.05992651, -0.05315274],\n",
       "        [-0.08245058,  0.00931677,  0.02212135, ..., -0.12895629,\n",
       "         -0.16637929,  0.04116825]], dtype=float32),\n",
       " array([[-0.08985034, -0.09612077,  0.02054946, ..., -0.05307414,\n",
       "          0.07747248,  0.08517459],\n",
       "        [ 0.10792044,  0.0794492 , -0.16831994, ..., -0.06385598,\n",
       "         -0.01169617,  0.01677131],\n",
       "        [ 0.01471142, -0.01612346, -0.09302207, ..., -0.10489412,\n",
       "         -0.04076731, -0.02742396],\n",
       "        ...,\n",
       "        [-0.18275839, -0.03105808,  0.00794767, ..., -0.07157873,\n",
       "         -0.11350045,  0.19810502],\n",
       "        [-0.06605672, -0.13432357,  0.03345541, ..., -0.09290785,\n",
       "         -0.00143324, -0.0485773 ],\n",
       "        [ 0.01089445, -0.02916176, -0.07950554, ...,  0.07554609,\n",
       "          0.08663308,  0.1341125 ]], dtype=float32),\n",
       " array([-0.00974435, -0.0459852 , -0.03926783,  0.01781565, -0.01504479,\n",
       "        -0.0032302 ,  0.01707976, -0.02252199,  0.02361428,  0.00558141,\n",
       "         0.01407358,  0.01906298, -0.00514965, -0.01317511, -0.01875893,\n",
       "        -0.01627608, -0.01942986,  0.03352827,  0.00269451,  0.02742788,\n",
       "         0.0074643 , -0.01530499, -0.01303736, -0.05714473, -0.02168747,\n",
       "        -0.00394465,  0.01363861, -0.02750302, -0.01519874, -0.0053557 ,\n",
       "         0.01314586, -0.0256429 ,  0.03186742, -0.02508835, -0.02455642,\n",
       "        -0.00755511,  0.01838958, -0.0090662 , -0.03612747, -0.01623471,\n",
       "         0.01809627, -0.00905215, -0.01224959, -0.00271364, -0.02250335,\n",
       "        -0.02642997, -0.00781673, -0.00532232,  0.00065114, -0.02286002,\n",
       "        -0.03378076,  0.00072691, -0.02220532,  0.00368304,  0.00880583,\n",
       "        -0.00492621, -0.07966857, -0.05632829,  0.01802001,  0.00450513,\n",
       "        -0.03952646,  0.03630923, -0.02694383, -0.01787266, -0.01092871,\n",
       "        -0.05208296, -0.00390929, -0.01601382,  0.00963723, -0.00635925,\n",
       "        -0.04192908,  0.00976571, -0.02446381,  0.02157578, -0.0133052 ,\n",
       "         0.00375536, -0.03332954, -0.01267916, -0.00921738, -0.00381713,\n",
       "        -0.02690182,  0.02714554, -0.0045093 , -0.01851497, -0.02800853,\n",
       "        -0.01991085, -0.00794904, -0.00382822, -0.00663907, -0.03870232,\n",
       "         0.00204201, -0.03063666,  0.01065191, -0.03183492, -0.00765564,\n",
       "        -0.01674665, -0.04971953,  0.04612738, -0.03948649,  0.01923756,\n",
       "        -0.02925137, -0.02880185, -0.00084185,  0.03467274, -0.00822322,\n",
       "         0.01242658,  0.0085697 , -0.02167668, -0.00878153, -0.02379617,\n",
       "         0.00422556,  0.008397  ,  0.02222414, -0.0159364 ,  0.01223387,\n",
       "         0.00500113,  0.01123171, -0.01933705, -0.02646927,  0.00818737,\n",
       "         0.00931439, -0.02286958, -0.03157111, -0.02551816,  0.00416269,\n",
       "        -0.02586632,  0.00198475,  0.01240862], dtype=float32),\n",
       " array([[-1.78973228e-01],\n",
       "        [ 1.28747195e-01],\n",
       "        [-1.66289061e-01],\n",
       "        [-1.69566154e-01],\n",
       "        [ 1.92981869e-01],\n",
       "        [ 1.50288893e-02],\n",
       "        [-1.51323229e-01],\n",
       "        [ 1.38018001e-02],\n",
       "        [ 1.39081523e-01],\n",
       "        [ 2.96823662e-02],\n",
       "        [-1.56320974e-01],\n",
       "        [ 3.88168007e-01],\n",
       "        [ 3.26437652e-02],\n",
       "        [ 1.63010526e-02],\n",
       "        [-1.76045641e-01],\n",
       "        [ 5.62754720e-02],\n",
       "        [-1.70382619e-01],\n",
       "        [ 9.27105844e-02],\n",
       "        [-2.35682786e-01],\n",
       "        [ 2.13494137e-01],\n",
       "        [-9.32517871e-02],\n",
       "        [-6.16131127e-02],\n",
       "        [ 1.07286274e-01],\n",
       "        [-1.32848799e-01],\n",
       "        [ 1.24120057e-01],\n",
       "        [-1.42747581e-01],\n",
       "        [-3.20886075e-01],\n",
       "        [-1.37000814e-01],\n",
       "        [-2.99145542e-02],\n",
       "        [-4.81443927e-02],\n",
       "        [-1.23900461e+00],\n",
       "        [-2.16360182e-01],\n",
       "        [ 7.99616054e-02],\n",
       "        [ 5.50724529e-02],\n",
       "        [-1.16305992e-01],\n",
       "        [ 1.95926324e-01],\n",
       "        [ 2.00150460e-01],\n",
       "        [-9.47732702e-02],\n",
       "        [-1.10943094e-01],\n",
       "        [ 4.91293781e-02],\n",
       "        [-4.37325612e-02],\n",
       "        [ 1.05682284e-01],\n",
       "        [-1.87337667e-01],\n",
       "        [ 7.39218388e-03],\n",
       "        [-3.56734283e-02],\n",
       "        [ 1.45384669e-01],\n",
       "        [ 9.71871540e-02],\n",
       "        [ 1.34321824e-01],\n",
       "        [ 2.33465269e-01],\n",
       "        [-1.03428394e-01],\n",
       "        [ 6.83734417e-02],\n",
       "        [ 1.69089422e-01],\n",
       "        [ 2.60262072e-01],\n",
       "        [ 7.09384158e-02],\n",
       "        [ 1.38164505e-01],\n",
       "        [-1.69396669e-01],\n",
       "        [ 1.86443731e-01],\n",
       "        [ 2.85309792e-01],\n",
       "        [-1.96955860e-01],\n",
       "        [ 1.55504301e-01],\n",
       "        [-1.47944599e-01],\n",
       "        [ 1.47851808e-02],\n",
       "        [ 1.52590573e-01],\n",
       "        [ 4.23914790e-01],\n",
       "        [-1.44816190e-02],\n",
       "        [-2.66457530e-04],\n",
       "        [-9.71969031e-03],\n",
       "        [ 3.84383351e-01],\n",
       "        [-1.92120686e-01],\n",
       "        [ 1.35463744e-01],\n",
       "        [-1.17421253e-02],\n",
       "        [-2.55760867e-02],\n",
       "        [ 9.44722742e-02],\n",
       "        [-1.29128531e-01],\n",
       "        [ 1.43551245e-01],\n",
       "        [-2.34509721e-01],\n",
       "        [-1.47120189e-02],\n",
       "        [ 2.49510944e-01],\n",
       "        [-1.37329817e-01],\n",
       "        [ 2.28963662e-02],\n",
       "        [-6.94219470e-02],\n",
       "        [ 1.68055847e-01],\n",
       "        [ 2.23205443e-02],\n",
       "        [ 7.12858066e-02],\n",
       "        [-6.37835637e-02],\n",
       "        [ 3.06593031e-01],\n",
       "        [-2.11003616e-01],\n",
       "        [-1.33219272e-01],\n",
       "        [ 1.94339290e-01],\n",
       "        [ 2.80227095e-01],\n",
       "        [-9.00803953e-02],\n",
       "        [ 8.87780041e-02],\n",
       "        [-4.22055088e-02],\n",
       "        [-7.00099096e-02],\n",
       "        [ 1.73861593e-01],\n",
       "        [ 5.78785054e-02],\n",
       "        [ 2.12493345e-01],\n",
       "        [-2.05408279e-02],\n",
       "        [ 1.04777433e-01],\n",
       "        [-1.05262041e-01],\n",
       "        [-9.03378353e-02],\n",
       "        [ 1.29346803e-01],\n",
       "        [-3.42777744e-02],\n",
       "        [ 2.02056602e-01],\n",
       "        [ 8.53888988e-02],\n",
       "        [-1.37082636e-01],\n",
       "        [ 4.31756675e-02],\n",
       "        [ 1.48879737e-01],\n",
       "        [ 1.93035707e-01],\n",
       "        [-1.22243688e-01],\n",
       "        [-7.17507824e-02],\n",
       "        [ 2.58260276e-02],\n",
       "        [ 2.06958070e-01],\n",
       "        [ 2.03459129e-01],\n",
       "        [ 7.70434514e-02],\n",
       "        [-2.12654725e-01],\n",
       "        [ 7.45671317e-02],\n",
       "        [ 2.29555845e-01],\n",
       "        [-1.46292344e-01],\n",
       "        [-8.93206149e-02],\n",
       "        [-2.22429141e-01],\n",
       "        [-1.41672462e-01],\n",
       "        [-4.45596665e-01],\n",
       "        [ 1.94330141e-01],\n",
       "        [ 2.21470281e-01],\n",
       "        [ 2.59609744e-02],\n",
       "        [ 2.60914043e-02],\n",
       "        [ 3.54828499e-02]], dtype=float32),\n",
       " array([0.7292346], dtype=float32)]"
      ]
     },
     "execution_count": 7,
     "metadata": {},
     "output_type": "execute_result"
    }
   ],
   "source": [
    "model.get_weights()"
   ]
  },
  {
   "cell_type": "code",
   "execution_count": 9,
   "id": "d886a2fc",
   "metadata": {},
   "outputs": [],
   "source": [
    "#Helper Functions\n",
    "def decode_review(encoded_review):\n",
    "    return ' '.join([reverse_word_index.get(i - 3, '?') for i in encoded_review])\n",
    "\n",
    "#Function to Pre Process user input\n",
    "def preprocess_text(text):\n",
    "    words = text.lower().split()\n",
    "    encoded_review = [word_index.get(word, 2) + 3 for word in words]\n",
    "    padded_review = sequence.pad_sequences([encoded_review], maxlen = 500)\n",
    "    return padded_review"
   ]
  },
  {
   "cell_type": "code",
   "execution_count": 10,
   "id": "112e4730",
   "metadata": {},
   "outputs": [],
   "source": [
    "#Prediction Function\n",
    "def predict_sentiment(review):\n",
    "    preprocessed_input=preprocess_text(review)\n",
    "    prediction = model.predict(preprocessed_input)\n",
    "    sentiment = 'Positive' if prediction[0][0] > 0.5 else 'Negative'\n",
    "    return sentiment, prediction[0][0]"
   ]
  },
  {
   "cell_type": "code",
   "execution_count": 12,
   "id": "45f5d4b3",
   "metadata": {},
   "outputs": [
    {
     "name": "stdout",
     "output_type": "stream",
     "text": [
      "1/1 [==============================] - 0s 33ms/step\n",
      "Sentiment: Positive\n",
      "Prediction Score: 0.5187365412712097\n"
     ]
    }
   ],
   "source": [
    "#User Input and Prediction\n",
    "example_review = ' This movie was mind blowing, i  believe we will see more such movies'\n",
    "\n",
    "sentiment, score = predict_sentiment(example_review)\n",
    "print(f'Sentiment: {sentiment}')\n",
    "print(f'Prediction Score: {score}')"
   ]
  },
  {
   "cell_type": "code",
   "execution_count": null,
   "id": "1cd649c9",
   "metadata": {},
   "outputs": [],
   "source": []
  },
  {
   "cell_type": "code",
   "execution_count": null,
   "id": "684030ac",
   "metadata": {},
   "outputs": [],
   "source": []
  },
  {
   "cell_type": "code",
   "execution_count": null,
   "id": "0c4c2504",
   "metadata": {},
   "outputs": [],
   "source": []
  },
  {
   "cell_type": "code",
   "execution_count": null,
   "id": "2e3e9846",
   "metadata": {},
   "outputs": [],
   "source": []
  },
  {
   "cell_type": "code",
   "execution_count": null,
   "id": "85cd524f",
   "metadata": {},
   "outputs": [],
   "source": []
  },
  {
   "cell_type": "code",
   "execution_count": null,
   "id": "d040395d",
   "metadata": {},
   "outputs": [],
   "source": []
  },
  {
   "cell_type": "code",
   "execution_count": null,
   "id": "fd430c1e",
   "metadata": {},
   "outputs": [],
   "source": []
  },
  {
   "cell_type": "code",
   "execution_count": null,
   "id": "a6f745e3",
   "metadata": {},
   "outputs": [],
   "source": []
  },
  {
   "cell_type": "code",
   "execution_count": null,
   "id": "a4d81f06",
   "metadata": {},
   "outputs": [],
   "source": []
  },
  {
   "cell_type": "code",
   "execution_count": null,
   "id": "c980af67",
   "metadata": {},
   "outputs": [],
   "source": []
  },
  {
   "cell_type": "code",
   "execution_count": null,
   "id": "6a636bac",
   "metadata": {},
   "outputs": [],
   "source": []
  },
  {
   "cell_type": "code",
   "execution_count": null,
   "id": "62185ff3",
   "metadata": {},
   "outputs": [],
   "source": []
  },
  {
   "cell_type": "code",
   "execution_count": null,
   "id": "12f6f1e4",
   "metadata": {},
   "outputs": [],
   "source": []
  },
  {
   "cell_type": "code",
   "execution_count": null,
   "id": "ff743e4a",
   "metadata": {},
   "outputs": [],
   "source": []
  },
  {
   "cell_type": "code",
   "execution_count": null,
   "id": "384c743c",
   "metadata": {},
   "outputs": [],
   "source": []
  },
  {
   "cell_type": "code",
   "execution_count": null,
   "id": "9d7425d3",
   "metadata": {},
   "outputs": [],
   "source": []
  },
  {
   "cell_type": "code",
   "execution_count": null,
   "id": "10792d6f",
   "metadata": {},
   "outputs": [],
   "source": []
  },
  {
   "cell_type": "code",
   "execution_count": null,
   "id": "927bfdf1",
   "metadata": {},
   "outputs": [],
   "source": []
  },
  {
   "cell_type": "code",
   "execution_count": null,
   "id": "359c48b6",
   "metadata": {},
   "outputs": [],
   "source": []
  },
  {
   "cell_type": "code",
   "execution_count": null,
   "id": "aa519c68",
   "metadata": {},
   "outputs": [],
   "source": []
  },
  {
   "cell_type": "code",
   "execution_count": null,
   "id": "77797543",
   "metadata": {},
   "outputs": [],
   "source": []
  },
  {
   "cell_type": "code",
   "execution_count": null,
   "id": "d082a809",
   "metadata": {},
   "outputs": [],
   "source": []
  },
  {
   "cell_type": "code",
   "execution_count": null,
   "id": "be8a9167",
   "metadata": {},
   "outputs": [],
   "source": []
  },
  {
   "cell_type": "code",
   "execution_count": null,
   "id": "2f48b84a",
   "metadata": {},
   "outputs": [],
   "source": []
  },
  {
   "cell_type": "code",
   "execution_count": null,
   "id": "067fb3b2",
   "metadata": {},
   "outputs": [],
   "source": []
  },
  {
   "cell_type": "code",
   "execution_count": null,
   "id": "5fd33d68",
   "metadata": {},
   "outputs": [],
   "source": []
  },
  {
   "cell_type": "code",
   "execution_count": null,
   "id": "f8ac123a",
   "metadata": {},
   "outputs": [],
   "source": []
  },
  {
   "cell_type": "code",
   "execution_count": null,
   "id": "fbb81846",
   "metadata": {},
   "outputs": [],
   "source": []
  },
  {
   "cell_type": "code",
   "execution_count": null,
   "id": "f4e244cb",
   "metadata": {},
   "outputs": [],
   "source": []
  },
  {
   "cell_type": "code",
   "execution_count": null,
   "id": "83dd4c4d",
   "metadata": {},
   "outputs": [],
   "source": []
  },
  {
   "cell_type": "code",
   "execution_count": null,
   "id": "f033ffb1",
   "metadata": {},
   "outputs": [],
   "source": []
  },
  {
   "cell_type": "code",
   "execution_count": null,
   "id": "1f6fa596",
   "metadata": {},
   "outputs": [],
   "source": []
  },
  {
   "cell_type": "code",
   "execution_count": null,
   "id": "8e48df3c",
   "metadata": {},
   "outputs": [],
   "source": []
  },
  {
   "cell_type": "code",
   "execution_count": null,
   "id": "811a3c46",
   "metadata": {},
   "outputs": [],
   "source": []
  },
  {
   "cell_type": "code",
   "execution_count": null,
   "id": "1352f475",
   "metadata": {},
   "outputs": [],
   "source": []
  },
  {
   "cell_type": "code",
   "execution_count": null,
   "id": "b85c0bc7",
   "metadata": {},
   "outputs": [],
   "source": []
  },
  {
   "cell_type": "code",
   "execution_count": null,
   "id": "f2ff3521",
   "metadata": {},
   "outputs": [],
   "source": []
  },
  {
   "cell_type": "code",
   "execution_count": null,
   "id": "e01973ce",
   "metadata": {},
   "outputs": [],
   "source": []
  },
  {
   "cell_type": "code",
   "execution_count": null,
   "id": "5a3975b1",
   "metadata": {},
   "outputs": [],
   "source": []
  },
  {
   "cell_type": "code",
   "execution_count": null,
   "id": "7ce4c78f",
   "metadata": {},
   "outputs": [],
   "source": []
  },
  {
   "cell_type": "code",
   "execution_count": null,
   "id": "03231958",
   "metadata": {},
   "outputs": [],
   "source": []
  },
  {
   "cell_type": "code",
   "execution_count": null,
   "id": "f5ff3776",
   "metadata": {},
   "outputs": [],
   "source": []
  },
  {
   "cell_type": "code",
   "execution_count": null,
   "id": "671241d5",
   "metadata": {},
   "outputs": [],
   "source": []
  },
  {
   "cell_type": "code",
   "execution_count": null,
   "id": "52cf20fb",
   "metadata": {},
   "outputs": [],
   "source": []
  },
  {
   "cell_type": "code",
   "execution_count": null,
   "id": "b8c0493e",
   "metadata": {},
   "outputs": [],
   "source": []
  },
  {
   "cell_type": "code",
   "execution_count": null,
   "id": "29612d6e",
   "metadata": {},
   "outputs": [],
   "source": []
  },
  {
   "cell_type": "code",
   "execution_count": null,
   "id": "87a2dbd1",
   "metadata": {},
   "outputs": [],
   "source": []
  },
  {
   "cell_type": "code",
   "execution_count": null,
   "id": "9753a966",
   "metadata": {},
   "outputs": [],
   "source": []
  },
  {
   "cell_type": "code",
   "execution_count": null,
   "id": "acfb2d61",
   "metadata": {},
   "outputs": [],
   "source": []
  },
  {
   "cell_type": "code",
   "execution_count": null,
   "id": "77c43484",
   "metadata": {},
   "outputs": [],
   "source": []
  },
  {
   "cell_type": "code",
   "execution_count": null,
   "id": "6b7c6f12",
   "metadata": {},
   "outputs": [],
   "source": []
  },
  {
   "cell_type": "code",
   "execution_count": null,
   "id": "00e099f0",
   "metadata": {},
   "outputs": [],
   "source": []
  },
  {
   "cell_type": "code",
   "execution_count": null,
   "id": "68bfb874",
   "metadata": {},
   "outputs": [],
   "source": []
  },
  {
   "cell_type": "code",
   "execution_count": null,
   "id": "4903d805",
   "metadata": {},
   "outputs": [],
   "source": []
  },
  {
   "cell_type": "code",
   "execution_count": null,
   "id": "7bcfff1e",
   "metadata": {},
   "outputs": [],
   "source": []
  },
  {
   "cell_type": "code",
   "execution_count": null,
   "id": "222c387e",
   "metadata": {},
   "outputs": [],
   "source": []
  },
  {
   "cell_type": "code",
   "execution_count": null,
   "id": "9a7e41cb",
   "metadata": {},
   "outputs": [],
   "source": []
  },
  {
   "cell_type": "code",
   "execution_count": null,
   "id": "410dc4e6",
   "metadata": {},
   "outputs": [],
   "source": []
  },
  {
   "cell_type": "code",
   "execution_count": null,
   "id": "846a426d",
   "metadata": {},
   "outputs": [],
   "source": []
  },
  {
   "cell_type": "code",
   "execution_count": null,
   "id": "cd4e7a43",
   "metadata": {},
   "outputs": [],
   "source": []
  },
  {
   "cell_type": "code",
   "execution_count": null,
   "id": "7ec4a3ba",
   "metadata": {},
   "outputs": [],
   "source": []
  },
  {
   "cell_type": "code",
   "execution_count": null,
   "id": "40df4dfb",
   "metadata": {},
   "outputs": [],
   "source": []
  }
 ],
 "metadata": {
  "kernelspec": {
   "display_name": "Python 3",
   "language": "python",
   "name": "python3"
  },
  "language_info": {
   "codemirror_mode": {
    "name": "ipython",
    "version": 3
   },
   "file_extension": ".py",
   "mimetype": "text/x-python",
   "name": "python",
   "nbconvert_exporter": "python",
   "pygments_lexer": "ipython3",
   "version": "3.11.0"
  }
 },
 "nbformat": 4,
 "nbformat_minor": 5
}

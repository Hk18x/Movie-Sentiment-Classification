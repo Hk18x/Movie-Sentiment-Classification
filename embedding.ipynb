{
 "cells": [
  {
   "cell_type": "code",
   "execution_count": 1,
   "id": "60668d07",
   "metadata": {},
   "outputs": [
    {
     "name": "stdout",
     "output_type": "stream",
     "text": [
      "WARNING:tensorflow:From c:\\Users\\Harshit.mishra\\Downloads\\Churn Project\\venv\\Lib\\site-packages\\keras\\src\\losses.py:2976: The name tf.losses.sparse_softmax_cross_entropy is deprecated. Please use tf.compat.v1.losses.sparse_softmax_cross_entropy instead.\n",
      "\n"
     ]
    }
   ],
   "source": [
    "from tensorflow.keras.preprocessing.text import one_hot"
   ]
  },
  {
   "cell_type": "code",
   "execution_count": 2,
   "id": "842e2a28",
   "metadata": {},
   "outputs": [],
   "source": [
    "##Sentenced\n",
    "sent = [\n",
    "    'the glass of milk',\n",
    "    'the glass of juice',\n",
    "    'the cup of tea',\n",
    "    'I am a good boy',\n",
    "    'I am a good developer',\n",
    "    'understand the meaning of words',\n",
    "    'your videos are good',\n",
    "]"
   ]
  },
  {
   "cell_type": "code",
   "execution_count": 3,
   "id": "10a6f8b1",
   "metadata": {},
   "outputs": [
    {
     "data": {
      "text/plain": [
       "['the glass of milk',\n",
       " 'the glass of juice',\n",
       " 'the cup of tea',\n",
       " 'I am a good boy',\n",
       " 'I am a good developer',\n",
       " 'understand the meaning of words',\n",
       " 'your videos are good']"
      ]
     },
     "execution_count": 3,
     "metadata": {},
     "output_type": "execute_result"
    }
   ],
   "source": [
    "sent"
   ]
  },
  {
   "cell_type": "code",
   "execution_count": 4,
   "id": "af9a843a",
   "metadata": {},
   "outputs": [],
   "source": [
    "#define vocab size\n",
    "voc_size = 10000"
   ]
  },
  {
   "cell_type": "code",
   "execution_count": 5,
   "id": "cfd6ea1e",
   "metadata": {},
   "outputs": [
    {
     "data": {
      "text/plain": [
       "[[4568, 8260, 5167, 4078],\n",
       " [4568, 8260, 5167, 8182],\n",
       " [4568, 1075, 5167, 7031],\n",
       " [275, 2208, 3494, 5106, 9853],\n",
       " [275, 2208, 3494, 5106, 9000],\n",
       " [9086, 4568, 9665, 5167, 7542],\n",
       " [3589, 2336, 6409, 5106]]"
      ]
     },
     "execution_count": 5,
     "metadata": {},
     "output_type": "execute_result"
    }
   ],
   "source": [
    "#one hot representation\n",
    "one_hot_repr = [one_hot(words, voc_size)for words in sent]\n",
    "one_hot_repr"
   ]
  },
  {
   "cell_type": "code",
   "execution_count": 6,
   "id": "d723d0aa",
   "metadata": {},
   "outputs": [],
   "source": [
    "from tensorflow.keras.layers import Embedding\n",
    "from tensorflow.keras.utils import pad_sequences\n",
    "from tensorflow.keras.models import Sequential"
   ]
  },
  {
   "cell_type": "code",
   "execution_count": 7,
   "id": "510f2ef7",
   "metadata": {},
   "outputs": [],
   "source": [
    "import numpy as np"
   ]
  },
  {
   "cell_type": "code",
   "execution_count": 8,
   "id": "bdb172b9",
   "metadata": {},
   "outputs": [
    {
     "name": "stdout",
     "output_type": "stream",
     "text": [
      "[[   0    0    0    0 4568 8260 5167 4078]\n",
      " [   0    0    0    0 4568 8260 5167 8182]\n",
      " [   0    0    0    0 4568 1075 5167 7031]\n",
      " [   0    0    0  275 2208 3494 5106 9853]\n",
      " [   0    0    0  275 2208 3494 5106 9000]\n",
      " [   0    0    0 9086 4568 9665 5167 7542]\n",
      " [   0    0    0    0 3589 2336 6409 5106]]\n"
     ]
    }
   ],
   "source": [
    "sent_length = 8\n",
    "embedded_docs = pad_sequences(one_hot_repr, padding='pre', maxlen=sent_length)\n",
    "print(embedded_docs)"
   ]
  },
  {
   "cell_type": "code",
   "execution_count": 9,
   "id": "989fb26f",
   "metadata": {},
   "outputs": [],
   "source": [
    "#Feature Representation\n",
    "dim=10"
   ]
  },
  {
   "cell_type": "code",
   "execution_count": 10,
   "id": "3a98d55f",
   "metadata": {},
   "outputs": [
    {
     "name": "stdout",
     "output_type": "stream",
     "text": [
      "WARNING:tensorflow:From c:\\Users\\Harshit.mishra\\Downloads\\Churn Project\\venv\\Lib\\site-packages\\keras\\src\\backend.py:873: The name tf.get_default_graph is deprecated. Please use tf.compat.v1.get_default_graph instead.\n",
      "\n",
      "WARNING:tensorflow:From c:\\Users\\Harshit.mishra\\Downloads\\Churn Project\\venv\\Lib\\site-packages\\keras\\src\\optimizers\\__init__.py:309: The name tf.train.Optimizer is deprecated. Please use tf.compat.v1.train.Optimizer instead.\n",
      "\n"
     ]
    }
   ],
   "source": [
    "model = Sequential()\n",
    "model.add(Embedding(voc_size,dim,input_length=sent_length))\n",
    "model.compile('adam','mse')"
   ]
  },
  {
   "cell_type": "code",
   "execution_count": 11,
   "id": "8b6579e0",
   "metadata": {},
   "outputs": [
    {
     "name": "stdout",
     "output_type": "stream",
     "text": [
      "Model: \"sequential\"\n",
      "_________________________________________________________________\n",
      " Layer (type)                Output Shape              Param #   \n",
      "=================================================================\n",
      " embedding (Embedding)       (None, 8, 10)             100000    \n",
      "                                                                 \n",
      "=================================================================\n",
      "Total params: 100000 (390.62 KB)\n",
      "Trainable params: 100000 (390.62 KB)\n",
      "Non-trainable params: 0 (0.00 Byte)\n",
      "_________________________________________________________________\n"
     ]
    }
   ],
   "source": [
    "model.summary()"
   ]
  },
  {
   "cell_type": "code",
   "execution_count": 12,
   "id": "1d344f80",
   "metadata": {},
   "outputs": [
    {
     "name": "stdout",
     "output_type": "stream",
     "text": [
      "1/1 [==============================] - 0s 224ms/step\n"
     ]
    },
    {
     "data": {
      "text/plain": [
       "array([[[ 0.03187138,  0.03052027, -0.0046627 , -0.02436198,\n",
       "          0.00339925, -0.04636786,  0.04399598,  0.02786234,\n",
       "          0.0020191 , -0.00837187],\n",
       "        [ 0.03187138,  0.03052027, -0.0046627 , -0.02436198,\n",
       "          0.00339925, -0.04636786,  0.04399598,  0.02786234,\n",
       "          0.0020191 , -0.00837187],\n",
       "        [ 0.03187138,  0.03052027, -0.0046627 , -0.02436198,\n",
       "          0.00339925, -0.04636786,  0.04399598,  0.02786234,\n",
       "          0.0020191 , -0.00837187],\n",
       "        [ 0.03187138,  0.03052027, -0.0046627 , -0.02436198,\n",
       "          0.00339925, -0.04636786,  0.04399598,  0.02786234,\n",
       "          0.0020191 , -0.00837187],\n",
       "        [ 0.04052452, -0.04388887, -0.03130721,  0.04219088,\n",
       "         -0.01239609,  0.00846654, -0.00590823, -0.0067613 ,\n",
       "         -0.04284873,  0.04157234],\n",
       "        [-0.0253745 ,  0.00875203,  0.0471634 ,  0.01357133,\n",
       "         -0.04402203,  0.01049806, -0.00688127,  0.00730641,\n",
       "          0.01319928,  0.04192736],\n",
       "        [-0.04307003, -0.00078925,  0.0068556 ,  0.03913483,\n",
       "         -0.01300032,  0.03868467, -0.01414027, -0.03085343,\n",
       "         -0.04290148,  0.00024248],\n",
       "        [-0.01463247, -0.00610359,  0.04263016, -0.0330165 ,\n",
       "          0.02034061, -0.01376617, -0.01934034,  0.03031012,\n",
       "         -0.02832265, -0.02379902]],\n",
       "\n",
       "       [[ 0.03187138,  0.03052027, -0.0046627 , -0.02436198,\n",
       "          0.00339925, -0.04636786,  0.04399598,  0.02786234,\n",
       "          0.0020191 , -0.00837187],\n",
       "        [ 0.03187138,  0.03052027, -0.0046627 , -0.02436198,\n",
       "          0.00339925, -0.04636786,  0.04399598,  0.02786234,\n",
       "          0.0020191 , -0.00837187],\n",
       "        [ 0.03187138,  0.03052027, -0.0046627 , -0.02436198,\n",
       "          0.00339925, -0.04636786,  0.04399598,  0.02786234,\n",
       "          0.0020191 , -0.00837187],\n",
       "        [ 0.03187138,  0.03052027, -0.0046627 , -0.02436198,\n",
       "          0.00339925, -0.04636786,  0.04399598,  0.02786234,\n",
       "          0.0020191 , -0.00837187],\n",
       "        [ 0.04052452, -0.04388887, -0.03130721,  0.04219088,\n",
       "         -0.01239609,  0.00846654, -0.00590823, -0.0067613 ,\n",
       "         -0.04284873,  0.04157234],\n",
       "        [-0.0253745 ,  0.00875203,  0.0471634 ,  0.01357133,\n",
       "         -0.04402203,  0.01049806, -0.00688127,  0.00730641,\n",
       "          0.01319928,  0.04192736],\n",
       "        [-0.04307003, -0.00078925,  0.0068556 ,  0.03913483,\n",
       "         -0.01300032,  0.03868467, -0.01414027, -0.03085343,\n",
       "         -0.04290148,  0.00024248],\n",
       "        [ 0.00440861, -0.04036601,  0.02868413, -0.01877   ,\n",
       "          0.04609856, -0.01926688,  0.00044386, -0.02981757,\n",
       "         -0.01974307, -0.02422942]],\n",
       "\n",
       "       [[ 0.03187138,  0.03052027, -0.0046627 , -0.02436198,\n",
       "          0.00339925, -0.04636786,  0.04399598,  0.02786234,\n",
       "          0.0020191 , -0.00837187],\n",
       "        [ 0.03187138,  0.03052027, -0.0046627 , -0.02436198,\n",
       "          0.00339925, -0.04636786,  0.04399598,  0.02786234,\n",
       "          0.0020191 , -0.00837187],\n",
       "        [ 0.03187138,  0.03052027, -0.0046627 , -0.02436198,\n",
       "          0.00339925, -0.04636786,  0.04399598,  0.02786234,\n",
       "          0.0020191 , -0.00837187],\n",
       "        [ 0.03187138,  0.03052027, -0.0046627 , -0.02436198,\n",
       "          0.00339925, -0.04636786,  0.04399598,  0.02786234,\n",
       "          0.0020191 , -0.00837187],\n",
       "        [ 0.04052452, -0.04388887, -0.03130721,  0.04219088,\n",
       "         -0.01239609,  0.00846654, -0.00590823, -0.0067613 ,\n",
       "         -0.04284873,  0.04157234],\n",
       "        [-0.03081598,  0.04432963, -0.00854888,  0.03450997,\n",
       "          0.02159548, -0.01422968,  0.03236074,  0.04234667,\n",
       "         -0.01312022, -0.04972879],\n",
       "        [-0.04307003, -0.00078925,  0.0068556 ,  0.03913483,\n",
       "         -0.01300032,  0.03868467, -0.01414027, -0.03085343,\n",
       "         -0.04290148,  0.00024248],\n",
       "        [ 0.04307963, -0.0307886 ,  0.00686974, -0.00996628,\n",
       "          0.04338615, -0.00804063,  0.04425916,  0.04791708,\n",
       "          0.00867984,  0.03408987]],\n",
       "\n",
       "       [[ 0.03187138,  0.03052027, -0.0046627 , -0.02436198,\n",
       "          0.00339925, -0.04636786,  0.04399598,  0.02786234,\n",
       "          0.0020191 , -0.00837187],\n",
       "        [ 0.03187138,  0.03052027, -0.0046627 , -0.02436198,\n",
       "          0.00339925, -0.04636786,  0.04399598,  0.02786234,\n",
       "          0.0020191 , -0.00837187],\n",
       "        [ 0.03187138,  0.03052027, -0.0046627 , -0.02436198,\n",
       "          0.00339925, -0.04636786,  0.04399598,  0.02786234,\n",
       "          0.0020191 , -0.00837187],\n",
       "        [-0.0294783 ,  0.02040488,  0.03842587,  0.01786122,\n",
       "          0.02669443,  0.01678419,  0.0350594 ,  0.02262988,\n",
       "         -0.03051102,  0.00430151],\n",
       "        [-0.01027036, -0.03034887,  0.02028695,  0.04985534,\n",
       "         -0.0333239 ,  0.03455982,  0.04778146, -0.0018428 ,\n",
       "          0.03004023,  0.04838139],\n",
       "        [-0.03489864,  0.03932693, -0.03440124,  0.04839272,\n",
       "         -0.01020177, -0.00520928, -0.03920305, -0.03623664,\n",
       "          0.02613529, -0.03700606],\n",
       "        [-0.0328844 ,  0.03512688, -0.0150279 , -0.01682125,\n",
       "          0.022752  , -0.01507153,  0.0056172 , -0.04730934,\n",
       "          0.0312843 , -0.00502853],\n",
       "        [-0.0459685 , -0.048779  ,  0.02408321, -0.04656091,\n",
       "         -0.04457292, -0.01713681, -0.03500295,  0.04890046,\n",
       "          0.00349389,  0.01357204]],\n",
       "\n",
       "       [[ 0.03187138,  0.03052027, -0.0046627 , -0.02436198,\n",
       "          0.00339925, -0.04636786,  0.04399598,  0.02786234,\n",
       "          0.0020191 , -0.00837187],\n",
       "        [ 0.03187138,  0.03052027, -0.0046627 , -0.02436198,\n",
       "          0.00339925, -0.04636786,  0.04399598,  0.02786234,\n",
       "          0.0020191 , -0.00837187],\n",
       "        [ 0.03187138,  0.03052027, -0.0046627 , -0.02436198,\n",
       "          0.00339925, -0.04636786,  0.04399598,  0.02786234,\n",
       "          0.0020191 , -0.00837187],\n",
       "        [-0.0294783 ,  0.02040488,  0.03842587,  0.01786122,\n",
       "          0.02669443,  0.01678419,  0.0350594 ,  0.02262988,\n",
       "         -0.03051102,  0.00430151],\n",
       "        [-0.01027036, -0.03034887,  0.02028695,  0.04985534,\n",
       "         -0.0333239 ,  0.03455982,  0.04778146, -0.0018428 ,\n",
       "          0.03004023,  0.04838139],\n",
       "        [-0.03489864,  0.03932693, -0.03440124,  0.04839272,\n",
       "         -0.01020177, -0.00520928, -0.03920305, -0.03623664,\n",
       "          0.02613529, -0.03700606],\n",
       "        [-0.0328844 ,  0.03512688, -0.0150279 , -0.01682125,\n",
       "          0.022752  , -0.01507153,  0.0056172 , -0.04730934,\n",
       "          0.0312843 , -0.00502853],\n",
       "        [ 0.04294289,  0.00418222, -0.01174995, -0.01556022,\n",
       "         -0.01976275, -0.01392917,  0.04099314,  0.02455829,\n",
       "          0.01659271,  0.00056519]],\n",
       "\n",
       "       [[ 0.03187138,  0.03052027, -0.0046627 , -0.02436198,\n",
       "          0.00339925, -0.04636786,  0.04399598,  0.02786234,\n",
       "          0.0020191 , -0.00837187],\n",
       "        [ 0.03187138,  0.03052027, -0.0046627 , -0.02436198,\n",
       "          0.00339925, -0.04636786,  0.04399598,  0.02786234,\n",
       "          0.0020191 , -0.00837187],\n",
       "        [ 0.03187138,  0.03052027, -0.0046627 , -0.02436198,\n",
       "          0.00339925, -0.04636786,  0.04399598,  0.02786234,\n",
       "          0.0020191 , -0.00837187],\n",
       "        [ 0.04927117, -0.01856995, -0.02608199,  0.03439416,\n",
       "         -0.00488745, -0.04301802, -0.03140344,  0.01595582,\n",
       "          0.02667126, -0.0127282 ],\n",
       "        [ 0.04052452, -0.04388887, -0.03130721,  0.04219088,\n",
       "         -0.01239609,  0.00846654, -0.00590823, -0.0067613 ,\n",
       "         -0.04284873,  0.04157234],\n",
       "        [ 0.00585551, -0.04324322, -0.02458589, -0.00685399,\n",
       "          0.0253588 , -0.00819466, -0.01506745,  0.03954523,\n",
       "          0.01822178, -0.00386319],\n",
       "        [-0.04307003, -0.00078925,  0.0068556 ,  0.03913483,\n",
       "         -0.01300032,  0.03868467, -0.01414027, -0.03085343,\n",
       "         -0.04290148,  0.00024248],\n",
       "        [ 0.00304214,  0.00999005, -0.04420825, -0.04178619,\n",
       "          0.01705624,  0.04816499,  0.04613239,  0.03864035,\n",
       "         -0.01085592,  0.0233511 ]],\n",
       "\n",
       "       [[ 0.03187138,  0.03052027, -0.0046627 , -0.02436198,\n",
       "          0.00339925, -0.04636786,  0.04399598,  0.02786234,\n",
       "          0.0020191 , -0.00837187],\n",
       "        [ 0.03187138,  0.03052027, -0.0046627 , -0.02436198,\n",
       "          0.00339925, -0.04636786,  0.04399598,  0.02786234,\n",
       "          0.0020191 , -0.00837187],\n",
       "        [ 0.03187138,  0.03052027, -0.0046627 , -0.02436198,\n",
       "          0.00339925, -0.04636786,  0.04399598,  0.02786234,\n",
       "          0.0020191 , -0.00837187],\n",
       "        [ 0.03187138,  0.03052027, -0.0046627 , -0.02436198,\n",
       "          0.00339925, -0.04636786,  0.04399598,  0.02786234,\n",
       "          0.0020191 , -0.00837187],\n",
       "        [-0.03710432, -0.04098772,  0.03440387, -0.0132478 ,\n",
       "         -0.04391121, -0.03425038, -0.03825863,  0.00182157,\n",
       "         -0.00353358, -0.01461252],\n",
       "        [-0.03512509, -0.00660915,  0.01951791,  0.04586684,\n",
       "          0.04109937,  0.0104617 ,  0.00542367, -0.04316955,\n",
       "          0.03145547, -0.04595089],\n",
       "        [ 0.00838194,  0.00884472, -0.02850646, -0.03845695,\n",
       "          0.00724988,  0.02972442, -0.03262205, -0.03275327,\n",
       "         -0.02524041, -0.03984797],\n",
       "        [-0.0328844 ,  0.03512688, -0.0150279 , -0.01682125,\n",
       "          0.022752  , -0.01507153,  0.0056172 , -0.04730934,\n",
       "          0.0312843 , -0.00502853]]], dtype=float32)"
      ]
     },
     "execution_count": 12,
     "metadata": {},
     "output_type": "execute_result"
    }
   ],
   "source": [
    "model.predict(embedded_docs)"
   ]
  },
  {
   "cell_type": "code",
   "execution_count": 13,
   "id": "c939e109",
   "metadata": {},
   "outputs": [
    {
     "data": {
      "text/plain": [
       "array([   0,    0,    0,    0, 4568, 8260, 5167, 4078])"
      ]
     },
     "execution_count": 13,
     "metadata": {},
     "output_type": "execute_result"
    }
   ],
   "source": [
    "embedded_docs[0]"
   ]
  },
  {
   "cell_type": "code",
   "execution_count": 14,
   "id": "dafc0822",
   "metadata": {},
   "outputs": [
    {
     "name": "stdout",
     "output_type": "stream",
     "text": [
      "1/1 [==============================] - 0s 74ms/step\n"
     ]
    },
    {
     "data": {
      "text/plain": [
       "array([[ 0.03187138,  0.03052027, -0.0046627 , -0.02436198,  0.00339925,\n",
       "        -0.04636786,  0.04399598,  0.02786234,  0.0020191 , -0.00837187],\n",
       "       [ 0.03187138,  0.03052027, -0.0046627 , -0.02436198,  0.00339925,\n",
       "        -0.04636786,  0.04399598,  0.02786234,  0.0020191 , -0.00837187],\n",
       "       [ 0.03187138,  0.03052027, -0.0046627 , -0.02436198,  0.00339925,\n",
       "        -0.04636786,  0.04399598,  0.02786234,  0.0020191 , -0.00837187],\n",
       "       [ 0.03187138,  0.03052027, -0.0046627 , -0.02436198,  0.00339925,\n",
       "        -0.04636786,  0.04399598,  0.02786234,  0.0020191 , -0.00837187],\n",
       "       [ 0.04052452, -0.04388887, -0.03130721,  0.04219088, -0.01239609,\n",
       "         0.00846654, -0.00590823, -0.0067613 , -0.04284873,  0.04157234],\n",
       "       [-0.0253745 ,  0.00875203,  0.0471634 ,  0.01357133, -0.04402203,\n",
       "         0.01049806, -0.00688127,  0.00730641,  0.01319928,  0.04192736],\n",
       "       [-0.04307003, -0.00078925,  0.0068556 ,  0.03913483, -0.01300032,\n",
       "         0.03868467, -0.01414027, -0.03085343, -0.04290148,  0.00024248],\n",
       "       [-0.01463247, -0.00610359,  0.04263016, -0.0330165 ,  0.02034061,\n",
       "        -0.01376617, -0.01934034,  0.03031012, -0.02832265, -0.02379902]],\n",
       "      dtype=float32)"
      ]
     },
     "execution_count": 14,
     "metadata": {},
     "output_type": "execute_result"
    }
   ],
   "source": [
    "model.predict(embedded_docs[0])"
   ]
  },
  {
   "cell_type": "code",
   "execution_count": null,
   "id": "cc1e99ef",
   "metadata": {},
   "outputs": [],
   "source": []
  },
  {
   "cell_type": "code",
   "execution_count": null,
   "id": "d13ee316",
   "metadata": {},
   "outputs": [],
   "source": []
  },
  {
   "cell_type": "code",
   "execution_count": null,
   "id": "9b779cab",
   "metadata": {},
   "outputs": [],
   "source": []
  },
  {
   "cell_type": "code",
   "execution_count": null,
   "id": "d3396de8",
   "metadata": {},
   "outputs": [],
   "source": []
  },
  {
   "cell_type": "code",
   "execution_count": null,
   "id": "bd3ef6f4",
   "metadata": {},
   "outputs": [],
   "source": []
  },
  {
   "cell_type": "code",
   "execution_count": null,
   "id": "a674b4ac",
   "metadata": {},
   "outputs": [],
   "source": []
  },
  {
   "cell_type": "code",
   "execution_count": null,
   "id": "e9081070",
   "metadata": {},
   "outputs": [],
   "source": []
  },
  {
   "cell_type": "code",
   "execution_count": null,
   "id": "8c122b74",
   "metadata": {},
   "outputs": [],
   "source": []
  },
  {
   "cell_type": "code",
   "execution_count": null,
   "id": "7a475c85",
   "metadata": {},
   "outputs": [],
   "source": []
  },
  {
   "cell_type": "code",
   "execution_count": null,
   "id": "833fa7bd",
   "metadata": {},
   "outputs": [],
   "source": []
  },
  {
   "cell_type": "code",
   "execution_count": null,
   "id": "e917b79d",
   "metadata": {},
   "outputs": [],
   "source": []
  },
  {
   "cell_type": "code",
   "execution_count": null,
   "id": "22d35703",
   "metadata": {},
   "outputs": [],
   "source": []
  },
  {
   "cell_type": "code",
   "execution_count": null,
   "id": "8b7b53fe",
   "metadata": {},
   "outputs": [],
   "source": []
  },
  {
   "cell_type": "code",
   "execution_count": null,
   "id": "aa1e723e",
   "metadata": {},
   "outputs": [],
   "source": []
  },
  {
   "cell_type": "code",
   "execution_count": null,
   "id": "0c324fe4",
   "metadata": {},
   "outputs": [],
   "source": []
  },
  {
   "cell_type": "code",
   "execution_count": null,
   "id": "42ecb4ec",
   "metadata": {},
   "outputs": [],
   "source": []
  },
  {
   "cell_type": "code",
   "execution_count": null,
   "id": "826bed8a",
   "metadata": {},
   "outputs": [],
   "source": []
  },
  {
   "cell_type": "code",
   "execution_count": null,
   "id": "6633c899",
   "metadata": {},
   "outputs": [],
   "source": []
  },
  {
   "cell_type": "code",
   "execution_count": null,
   "id": "70b3660e",
   "metadata": {},
   "outputs": [],
   "source": []
  },
  {
   "cell_type": "code",
   "execution_count": null,
   "id": "8ff7b45b",
   "metadata": {},
   "outputs": [],
   "source": []
  },
  {
   "cell_type": "code",
   "execution_count": null,
   "id": "e002f69c",
   "metadata": {},
   "outputs": [],
   "source": []
  },
  {
   "cell_type": "code",
   "execution_count": null,
   "id": "537ea79c",
   "metadata": {},
   "outputs": [],
   "source": []
  },
  {
   "cell_type": "code",
   "execution_count": null,
   "id": "b6fdf22f",
   "metadata": {},
   "outputs": [],
   "source": []
  },
  {
   "cell_type": "code",
   "execution_count": null,
   "id": "fef6522a",
   "metadata": {},
   "outputs": [],
   "source": []
  },
  {
   "cell_type": "code",
   "execution_count": null,
   "id": "bbd78a38",
   "metadata": {},
   "outputs": [],
   "source": []
  },
  {
   "cell_type": "code",
   "execution_count": null,
   "id": "ac2dbaa6",
   "metadata": {},
   "outputs": [],
   "source": []
  },
  {
   "cell_type": "code",
   "execution_count": null,
   "id": "09d445b7",
   "metadata": {},
   "outputs": [],
   "source": []
  },
  {
   "cell_type": "code",
   "execution_count": null,
   "id": "d9f0242c",
   "metadata": {},
   "outputs": [],
   "source": []
  },
  {
   "cell_type": "code",
   "execution_count": null,
   "id": "1ffa792b",
   "metadata": {},
   "outputs": [],
   "source": []
  },
  {
   "cell_type": "code",
   "execution_count": null,
   "id": "be2c3995",
   "metadata": {},
   "outputs": [],
   "source": []
  },
  {
   "cell_type": "code",
   "execution_count": null,
   "id": "ad88b8ea",
   "metadata": {},
   "outputs": [],
   "source": []
  },
  {
   "cell_type": "code",
   "execution_count": null,
   "id": "b26c702c",
   "metadata": {},
   "outputs": [],
   "source": []
  },
  {
   "cell_type": "code",
   "execution_count": null,
   "id": "44726b26",
   "metadata": {},
   "outputs": [],
   "source": []
  },
  {
   "cell_type": "code",
   "execution_count": null,
   "id": "128001b4",
   "metadata": {},
   "outputs": [],
   "source": []
  },
  {
   "cell_type": "code",
   "execution_count": null,
   "id": "f81a4126",
   "metadata": {},
   "outputs": [],
   "source": []
  },
  {
   "cell_type": "code",
   "execution_count": null,
   "id": "c29bceba",
   "metadata": {},
   "outputs": [],
   "source": []
  },
  {
   "cell_type": "code",
   "execution_count": null,
   "id": "80f361d6",
   "metadata": {},
   "outputs": [],
   "source": []
  },
  {
   "cell_type": "code",
   "execution_count": null,
   "id": "b59ca878",
   "metadata": {},
   "outputs": [],
   "source": []
  },
  {
   "cell_type": "code",
   "execution_count": null,
   "id": "b452d125",
   "metadata": {},
   "outputs": [],
   "source": []
  },
  {
   "cell_type": "code",
   "execution_count": null,
   "id": "62b845e5",
   "metadata": {},
   "outputs": [],
   "source": []
  },
  {
   "cell_type": "code",
   "execution_count": null,
   "id": "4ddbeb64",
   "metadata": {},
   "outputs": [],
   "source": []
  },
  {
   "cell_type": "code",
   "execution_count": null,
   "id": "bae4497e",
   "metadata": {},
   "outputs": [],
   "source": []
  },
  {
   "cell_type": "code",
   "execution_count": null,
   "id": "bec0ca0f",
   "metadata": {},
   "outputs": [],
   "source": []
  },
  {
   "cell_type": "code",
   "execution_count": null,
   "id": "edb20547",
   "metadata": {},
   "outputs": [],
   "source": []
  }
 ],
 "metadata": {
  "kernelspec": {
   "display_name": "Python 3",
   "language": "python",
   "name": "python3"
  },
  "language_info": {
   "codemirror_mode": {
    "name": "ipython",
    "version": 3
   },
   "file_extension": ".py",
   "mimetype": "text/x-python",
   "name": "python",
   "nbconvert_exporter": "python",
   "pygments_lexer": "ipython3",
   "version": "3.11.0"
  }
 },
 "nbformat": 4,
 "nbformat_minor": 5
}
